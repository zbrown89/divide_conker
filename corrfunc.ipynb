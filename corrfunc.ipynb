{
 "cells": [
  {
   "cell_type": "markdown",
   "metadata": {},
   "source": [
    "## Import from src"
   ]
  },
  {
   "cell_type": "code",
   "execution_count": null,
   "metadata": {},
   "outputs": [],
   "source": [
    "from src.divide import DivideCatalog\n",
    "from src.conker_series import ConKerConvolveCatalog\n",
    "from src.summation import Summation2PCF, Summation3PCF, SummationNPCFdiag\n",
    "\n",
    "data_file = 'dr12S_data.fits'\n",
    "rand_file = 'dr12S_randoms.fits'\n",
    "cfg_file = 'bossDR12paramsCoarse.txt'"
   ]
  },
  {
   "cell_type": "markdown",
   "metadata": {},
   "source": [
    "## Divide (partition) the randoms"
   ]
  },
  {
   "cell_type": "code",
   "execution_count": null,
   "metadata": {},
   "outputs": [],
   "source": [
    "DivideCatalog(rand_file,cfg_file,\n",
    "              \n",
    "              # Opt\n",
    "              save_plan = True,\n",
    "              plot_results = True,\n",
    "              save_plot = True,\n",
    "              verbose = True)"
   ]
  },
  {
   "cell_type": "markdown",
   "metadata": {},
   "source": [
    "## Convolve kernels in series"
   ]
  },
  {
   "cell_type": "code",
   "execution_count": null,
   "metadata": {},
   "outputs": [],
   "source": [
    "ConKerConvolveCatalog(data_file,rand_file,cfg_file,\n",
    "                      \n",
    "                      # Opt\n",
    "                      store_rand = True,\n",
    "                      ell_max=5,\n",
    "                      verbose=True,\n",
    "                      ftype = 'fits')"
   ]
  },
  {
   "cell_type": "markdown",
   "metadata": {},
   "source": [
    "## Compute Legendre multipoles of the 2pcf"
   ]
  },
  {
   "cell_type": "code",
   "execution_count": null,
   "metadata": {},
   "outputs": [],
   "source": [
    "Summation2PCF(data_file,rand_file,cfg_file,\n",
    "              \n",
    "              # Opt\n",
    "              ell_max=2,\n",
    "              plot_correlation = True,\n",
    "              save_plot = True, \n",
    "              verbose = True)"
   ]
  },
  {
   "cell_type": "markdown",
   "metadata": {},
   "source": [
    "## Compute expanded 3pcf"
   ]
  },
  {
   "cell_type": "code",
   "execution_count": null,
   "metadata": {},
   "outputs": [],
   "source": [
    "Summation3PCF(data_file,rand_file,cfg_file,\n",
    "              \n",
    "              # Opt\n",
    "              ell_max=5,\n",
    "              verbose = True)"
   ]
  },
  {
   "cell_type": "markdown",
   "metadata": {},
   "source": [
    "## Compute diagonal elements of the npcf to desired n"
   ]
  },
  {
   "cell_type": "code",
   "execution_count": null,
   "metadata": {},
   "outputs": [],
   "source": [
    "SummationNPCFdiag(data_file,rand_file,cfg_file,\n",
    "\n",
    "                  # Opt\n",
    "                  n_max=5,\n",
    "                  verbose = True)"
   ]
  }
 ],
 "metadata": {
  "kernelspec": {
   "display_name": "Python 3 (ipykernel)",
   "language": "python",
   "name": "python3"
  },
  "language_info": {
   "codemirror_mode": {
    "name": "ipython",
    "version": 3
   },
   "file_extension": ".py",
   "mimetype": "text/x-python",
   "name": "python",
   "nbconvert_exporter": "python",
   "pygments_lexer": "ipython3",
   "version": "3.9.7"
  }
 },
 "nbformat": 4,
 "nbformat_minor": 2
}
